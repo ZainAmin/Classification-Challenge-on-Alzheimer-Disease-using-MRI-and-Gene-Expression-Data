{
 "cells": [
  {
   "cell_type": "markdown",
   "id": "151216f7",
   "metadata": {},
   "source": [
    "# ADCTL Scores "
   ]
  },
  {
   "cell_type": "code",
   "execution_count": 2,
   "id": "d39eccbf",
   "metadata": {
    "scrolled": true
   },
   "outputs": [
    {
     "name": "stdout",
     "output_type": "stream",
     "text": [
      "MCC Score: 0.756565400534509\n",
      "AUC Score: 0.8773809523809524\n"
     ]
    }
   ],
   "source": [
    "import pandas as pd\n",
    "from sklearn.metrics import matthews_corrcoef, roc_auc_score\n",
    "from sklearn.preprocessing import LabelEncoder\n",
    "\n",
    "# Load the CSV file into a pandas DataFrame\n",
    "df = pd.read_csv(\"ADCTL.csv\")\n",
    "\n",
    "# Extract the predicted and actual labels from the DataFrame\n",
    "predicted_labels = df[\"Predicted_Labels\"]\n",
    "actual_labels = df[\"Actual_Labels\"]\n",
    "\n",
    "# Perform label encoding to convert string labels to numerical values\n",
    "label_encoder = LabelEncoder()\n",
    "predicted_labels = label_encoder.fit_transform(predicted_labels)\n",
    "actual_labels = label_encoder.transform(actual_labels)\n",
    "\n",
    "# Compute MCC score\n",
    "mcc = matthews_corrcoef(actual_labels, predicted_labels)\n",
    "print(\"MCC Score:\", mcc)\n",
    "\n",
    "# Compute AUC score\n",
    "auc = roc_auc_score(actual_labels, predicted_labels)\n",
    "print(\"AUC Score:\", auc)\n"
   ]
  },
  {
   "cell_type": "markdown",
   "id": "7bb2d68c",
   "metadata": {},
   "source": [
    "# ADMCI Scores"
   ]
  },
  {
   "cell_type": "code",
   "execution_count": 3,
   "id": "1a2dcb42",
   "metadata": {},
   "outputs": [
    {
     "name": "stdout",
     "output_type": "stream",
     "text": [
      "MCC Score: 0.48346919127704885\n",
      "AUC Score: 0.740909090909091\n"
     ]
    }
   ],
   "source": [
    "import pandas as pd\n",
    "from sklearn.metrics import matthews_corrcoef, roc_auc_score\n",
    "from sklearn.preprocessing import LabelEncoder\n",
    "\n",
    "# Load the CSV file into a pandas DataFrame\n",
    "df = pd.read_csv(\"ADMCI.csv\")\n",
    "\n",
    "# Extract the predicted and actual labels from the DataFrame\n",
    "predicted_labels = df[\"Predicted_Labels\"]\n",
    "actual_labels = df[\"Actual_Labels\"]\n",
    "\n",
    "# Perform label encoding to convert string labels to numerical values\n",
    "label_encoder = LabelEncoder()\n",
    "predicted_labels = label_encoder.fit_transform(predicted_labels)\n",
    "actual_labels = label_encoder.transform(actual_labels)\n",
    "\n",
    "# Compute MCC score\n",
    "mcc = matthews_corrcoef(actual_labels, predicted_labels)\n",
    "print(\"MCC Score:\", mcc)\n",
    "\n",
    "# Compute AUC score\n",
    "auc = roc_auc_score(actual_labels, predicted_labels)\n",
    "print(\"AUC Score:\", auc)\n"
   ]
  },
  {
   "cell_type": "markdown",
   "id": "367aaa5a",
   "metadata": {},
   "source": [
    "# MCICTL Scores"
   ]
  },
  {
   "cell_type": "code",
   "execution_count": 4,
   "id": "01bd70fe",
   "metadata": {},
   "outputs": [
    {
     "name": "stdout",
     "output_type": "stream",
     "text": [
      "MCC Score: 0.48807056260589954\n",
      "AUC Score: 0.7435064935064934\n"
     ]
    }
   ],
   "source": [
    "import pandas as pd\n",
    "from sklearn.metrics import matthews_corrcoef, roc_auc_score\n",
    "from sklearn.preprocessing import LabelEncoder\n",
    "\n",
    "# Load the CSV file into a pandas DataFrame\n",
    "df = pd.read_csv(\"MCICTL.csv\")\n",
    "\n",
    "# Extract the predicted and actual labels from the DataFrame\n",
    "predicted_labels = df[\"Predicted_Labels\"]\n",
    "actual_labels = df[\"Actual_Labels\"]\n",
    "\n",
    "# Perform label encoding to convert string labels to numerical values\n",
    "label_encoder = LabelEncoder()\n",
    "predicted_labels = label_encoder.fit_transform(predicted_labels)\n",
    "actual_labels = label_encoder.transform(actual_labels)\n",
    "\n",
    "# Compute MCC score\n",
    "mcc = matthews_corrcoef(actual_labels, predicted_labels)\n",
    "print(\"MCC Score:\", mcc)\n",
    "\n",
    "# Compute AUC score\n",
    "auc = roc_auc_score(actual_labels, predicted_labels)\n",
    "print(\"AUC Score:\", auc)\n"
   ]
  },
  {
   "cell_type": "code",
   "execution_count": null,
   "id": "b477246f",
   "metadata": {},
   "outputs": [],
   "source": []
  }
 ],
 "metadata": {
  "kernelspec": {
   "display_name": "Python 3 (ipykernel)",
   "language": "python",
   "name": "python3"
  },
  "language_info": {
   "codemirror_mode": {
    "name": "ipython",
    "version": 3
   },
   "file_extension": ".py",
   "mimetype": "text/x-python",
   "name": "python",
   "nbconvert_exporter": "python",
   "pygments_lexer": "ipython3",
   "version": "3.8.0"
  }
 },
 "nbformat": 4,
 "nbformat_minor": 5
}
